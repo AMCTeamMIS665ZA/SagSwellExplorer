{
 "cells": [
  {
   "cell_type": "markdown",
   "metadata": {},
   "source": [
    "paramBokeh is a small library that represents Parameters graphically in a notebook and on bokeh server. Parameters are Python attributes extended using the [Param library](https://github.com/ioam/param) to support types, ranges, and documentation, which turns out to be just the information you need to automatically create widgets for each parameter.  paramBokeh currently uses bokeh to display the widgets, but the design of Param and paramBokeh allows your code to be completely independent of the underlying widgets library, and can also be used with other widget frameworks such as paramNB, which uses ipywidgets.\n",
    "\n",
    "# Parameters and widgets\n",
    "\n",
    "To use paramBokeh, first declare some Parameterized classes with various Parameters:"
   ]
  },
  {
   "cell_type": "code",
   "execution_count": 1,
   "metadata": {},
   "outputs": [
    {
     "data": {
      "text/plain": [
       "50000"
      ]
     },
     "execution_count": 1,
     "metadata": {},
     "output_type": "execute_result"
    }
   ],
   "source": [
    "import param\n",
    "import datetime as dt\n",
    "\n",
    "class BaseClass(param.Parameterized):\n",
    "    x                       = param.Parameter(default=3.14,doc=\"X position\")\n",
    "    y                       = param.Parameter(default=\"Not editable\",constant=True)\n",
    "    string_value            = param.String(default=\"str\",doc=\"A string\")\n",
    "    num_int                 = param.Integer(50000,bounds=(-200,100000))\n",
    "    unbounded_int           = param.Integer(23)\n",
    "    float_with_hard_bounds  = param.Number(8.2,bounds=(7.5,10))\n",
    "    float_with_soft_bounds  = param.Number(0.5,bounds=(0,None),softbounds=(0,2))\n",
    "    unbounded_float         = param.Number(30.01,precedence=0)\n",
    "    hidden_parameter        = param.Number(2.718,precedence=-1)\n",
    "    integer_range           = param.Range(default=(3,7),bounds=(0, 10))\n",
    "    float_range             = param.Range(default=(0,1.57),bounds=(0, 3.145))\n",
    "    dictionary              = param.Dict(default={\"a\":2, \"b\":9})\n",
    "    \n",
    "class Example(BaseClass):\n",
    "    \"\"\"An example Parameterized class\"\"\"\n",
    "    timestamps = []\n",
    "\n",
    "    boolean                 = param.Boolean(True, doc=\"A sample Boolean parameter\")\n",
    "    color                   = param.Color(default='#FFFFFF')\n",
    "    date                    = param.Date(dt.datetime(2017, 1, 1),\n",
    "                                         bounds=(dt.datetime(2017, 1, 1), dt.datetime(2017, 2, 1)))\n",
    "    select_string           = param.ObjectSelector(default=\"yellow\",objects=[\"red\",\"yellow\",\"green\"])\n",
    "    select_fn               = param.ObjectSelector(default=list,objects=[list,set,dict])\n",
    "    int_list                = param.ListSelector(default=[3,5], objects=[1,3,5,7,9],precedence=0.5)\n",
    "    single_file             = param.FileSelector(path='../../*/*.py*',precedence=0.5)\n",
    "    multiple_files          = param.MultiFileSelector(path='../../*/*.py?',precedence=0.5)\n",
    "    record_timestamp        = param.Action(lambda x: x.timestamps.append(dt.datetime.now()), \n",
    "                                           doc=\"\"\"Record timestamp.\"\"\",precedence=0.7)\n",
    "    \n",
    "Example.num_int"
   ]
  },
  {
   "cell_type": "markdown",
   "metadata": {},
   "source": [
    "As you can see, declaring Parameters depends only on the separate Param library.  Parameters are a simple idea with some properties that are crucial for helping you create clean, usable code:\n",
    "\n",
    "- The Param library is pure Python with no dependencies, which makes it easy to include in any code without tying it to a particular GUI or widgets library, or even to the Jupyter notebook.  \n",
    "- Parameter declarations focus on semantic information relevant to your domain, allowing you to avoid polluting your domain-specific code with anything that ties it to a particular way of displaying or interacting with it. \n",
    "- Parameters can be defined wherever they make sense in your inheritance hierarchy, allowing you to document, type, and range-limit them once, with all of those properties inherited by any base class.  E.g. parameters work the same here whether they were declared in `BaseClass` or `Example`, which makes it easy to provide this metadata once, and avoiding duplicating it throughout the code wherever ranges or types need checking or documentation needs to be stored.\n",
    "\n",
    "If you then decide to use these Parameterized classes in a notebook environment, you can import paramBokeh and easily display and edit the parameter values as an optional additional step:"
   ]
  },
  {
   "cell_type": "code",
   "execution_count": 2,
   "metadata": {},
   "outputs": [
    {
     "data": {
      "text/html": [
       "\n",
       "    <div class=\"bk-root\">\n",
       "        <a href=\"https://bokeh.pydata.org\" target=\"_blank\" class=\"bk-logo bk-logo-small bk-logo-notebook\"></a>\n",
       "        <span id=\"9ce99d4d-fbae-44f6-9e03-a5541a3a8d7b\">Loading BokehJS ...</span>\n",
       "    </div>"
      ]
     },
     "metadata": {},
     "output_type": "display_data"
    },
    {
     "data": {
      "application/javascript": [
       "\n",
       "(function(root) {\n",
       "  function now() {\n",
       "    return new Date();\n",
       "  }\n",
       "\n",
       "  var force = true;\n",
       "\n",
       "  if (typeof (root._bokeh_onload_callbacks) === \"undefined\" || force === true) {\n",
       "    root._bokeh_onload_callbacks = [];\n",
       "    root._bokeh_is_loading = undefined;\n",
       "  }\n",
       "\n",
       "  var JS_MIME_TYPE = 'application/javascript';\n",
       "  var HTML_MIME_TYPE = 'text/html';\n",
       "  var EXEC_MIME_TYPE = 'application/vnd.bokehjs_exec.v0+json';\n",
       "  var CLASS_NAME = 'output_bokeh rendered_html';\n",
       "\n",
       "  /**\n",
       "   * Render data to the DOM node\n",
       "   */\n",
       "  function render(props, node) {\n",
       "    var script = document.createElement(\"script\");\n",
       "    node.appendChild(script);\n",
       "  }\n",
       "\n",
       "  /**\n",
       "   * Handle when an output is cleared or removed\n",
       "   */\n",
       "  function handleClearOutput(event, handle) {\n",
       "    var cell = handle.cell;\n",
       "\n",
       "    var id = cell.output_area._bokeh_element_id;\n",
       "    var server_id = cell.output_area._bokeh_server_id;\n",
       "    // Clean up Bokeh references\n",
       "    if (id !== undefined) {\n",
       "      Bokeh.index[id].model.document.clear();\n",
       "      delete Bokeh.index[id];\n",
       "    }\n",
       "\n",
       "    if (server_id !== undefined) {\n",
       "      // Clean up Bokeh references\n",
       "      var cmd = \"from bokeh.io.state import curstate; print(curstate().uuid_to_server['\" + server_id + \"'].get_sessions()[0].document.roots[0]._id)\";\n",
       "      cell.notebook.kernel.execute(cmd, {\n",
       "        iopub: {\n",
       "          output: function(msg) {\n",
       "            var element_id = msg.content.text.trim();\n",
       "            Bokeh.index[element_id].model.document.clear();\n",
       "            delete Bokeh.index[element_id];\n",
       "          }\n",
       "        }\n",
       "      });\n",
       "      // Destroy server and session\n",
       "      var cmd = \"import bokeh.io.notebook as ion; ion.destroy_server('\" + server_id + \"')\";\n",
       "      cell.notebook.kernel.execute(cmd);\n",
       "    }\n",
       "  }\n",
       "\n",
       "  /**\n",
       "   * Handle when a new output is added\n",
       "   */\n",
       "  function handleAddOutput(event, handle) {\n",
       "    var output_area = handle.output_area;\n",
       "    var output = handle.output;\n",
       "\n",
       "    // limit handleAddOutput to display_data with EXEC_MIME_TYPE content only\n",
       "    if ((output.output_type != \"display_data\") || (!output.data.hasOwnProperty(EXEC_MIME_TYPE))) {\n",
       "      return\n",
       "    }\n",
       "\n",
       "    var toinsert = output_area.element.find(\".\" + CLASS_NAME.split(' ')[0]);\n",
       "\n",
       "    if (output.metadata[EXEC_MIME_TYPE][\"id\"] !== undefined) {\n",
       "      toinsert[toinsert.length - 1].firstChild.textContent = output.data[JS_MIME_TYPE];\n",
       "      // store reference to embed id on output_area\n",
       "      output_area._bokeh_element_id = output.metadata[EXEC_MIME_TYPE][\"id\"];\n",
       "    }\n",
       "    if (output.metadata[EXEC_MIME_TYPE][\"server_id\"] !== undefined) {\n",
       "      var bk_div = document.createElement(\"div\");\n",
       "      bk_div.innerHTML = output.data[HTML_MIME_TYPE];\n",
       "      var script_attrs = bk_div.children[0].attributes;\n",
       "      for (var i = 0; i < script_attrs.length; i++) {\n",
       "        toinsert[toinsert.length - 1].firstChild.setAttribute(script_attrs[i].name, script_attrs[i].value);\n",
       "      }\n",
       "      // store reference to server id on output_area\n",
       "      output_area._bokeh_server_id = output.metadata[EXEC_MIME_TYPE][\"server_id\"];\n",
       "    }\n",
       "  }\n",
       "\n",
       "  function register_renderer(events, OutputArea) {\n",
       "\n",
       "    function append_mime(data, metadata, element) {\n",
       "      // create a DOM node to render to\n",
       "      var toinsert = this.create_output_subarea(\n",
       "        metadata,\n",
       "        CLASS_NAME,\n",
       "        EXEC_MIME_TYPE\n",
       "      );\n",
       "      this.keyboard_manager.register_events(toinsert);\n",
       "      // Render to node\n",
       "      var props = {data: data, metadata: metadata[EXEC_MIME_TYPE]};\n",
       "      render(props, toinsert[toinsert.length - 1]);\n",
       "      element.append(toinsert);\n",
       "      return toinsert\n",
       "    }\n",
       "\n",
       "    /* Handle when an output is cleared or removed */\n",
       "    events.on('clear_output.CodeCell', handleClearOutput);\n",
       "    events.on('delete.Cell', handleClearOutput);\n",
       "\n",
       "    /* Handle when a new output is added */\n",
       "    events.on('output_added.OutputArea', handleAddOutput);\n",
       "\n",
       "    /**\n",
       "     * Register the mime type and append_mime function with output_area\n",
       "     */\n",
       "    OutputArea.prototype.register_mime_type(EXEC_MIME_TYPE, append_mime, {\n",
       "      /* Is output safe? */\n",
       "      safe: true,\n",
       "      /* Index of renderer in `output_area.display_order` */\n",
       "      index: 0\n",
       "    });\n",
       "  }\n",
       "\n",
       "  // register the mime type if in Jupyter Notebook environment and previously unregistered\n",
       "  if (root.Jupyter !== undefined) {\n",
       "    var events = require('base/js/events');\n",
       "    var OutputArea = require('notebook/js/outputarea').OutputArea;\n",
       "\n",
       "    if (OutputArea.prototype.mime_types().indexOf(EXEC_MIME_TYPE) == -1) {\n",
       "      register_renderer(events, OutputArea);\n",
       "    }\n",
       "  }\n",
       "\n",
       "  \n",
       "  if (typeof (root._bokeh_timeout) === \"undefined\" || force === true) {\n",
       "    root._bokeh_timeout = Date.now() + 5000;\n",
       "    root._bokeh_failed_load = false;\n",
       "  }\n",
       "\n",
       "  var NB_LOAD_WARNING = {'data': {'text/html':\n",
       "     \"<div style='background-color: #fdd'>\\n\"+\n",
       "     \"<p>\\n\"+\n",
       "     \"BokehJS does not appear to have successfully loaded. If loading BokehJS from CDN, this \\n\"+\n",
       "     \"may be due to a slow or bad network connection. Possible fixes:\\n\"+\n",
       "     \"</p>\\n\"+\n",
       "     \"<ul>\\n\"+\n",
       "     \"<li>re-rerun `output_notebook()` to attempt to load from CDN again, or</li>\\n\"+\n",
       "     \"<li>use INLINE resources instead, as so:</li>\\n\"+\n",
       "     \"</ul>\\n\"+\n",
       "     \"<code>\\n\"+\n",
       "     \"from bokeh.resources import INLINE\\n\"+\n",
       "     \"output_notebook(resources=INLINE)\\n\"+\n",
       "     \"</code>\\n\"+\n",
       "     \"</div>\"}};\n",
       "\n",
       "  function display_loaded() {\n",
       "    var el = document.getElementById(\"9ce99d4d-fbae-44f6-9e03-a5541a3a8d7b\");\n",
       "    if (el != null) {\n",
       "      el.textContent = \"BokehJS is loading...\";\n",
       "    }\n",
       "    if (root.Bokeh !== undefined) {\n",
       "      if (el != null) {\n",
       "        el.textContent = \"BokehJS \" + root.Bokeh.version + \" successfully loaded.\";\n",
       "      }\n",
       "    } else if (Date.now() < root._bokeh_timeout) {\n",
       "      setTimeout(display_loaded, 100)\n",
       "    }\n",
       "  }\n",
       "\n",
       "\n",
       "  function run_callbacks() {\n",
       "    try {\n",
       "      root._bokeh_onload_callbacks.forEach(function(callback) { callback() });\n",
       "    }\n",
       "    finally {\n",
       "      delete root._bokeh_onload_callbacks\n",
       "    }\n",
       "    console.info(\"Bokeh: all callbacks have finished\");\n",
       "  }\n",
       "\n",
       "  function load_libs(js_urls, callback) {\n",
       "    root._bokeh_onload_callbacks.push(callback);\n",
       "    if (root._bokeh_is_loading > 0) {\n",
       "      console.log(\"Bokeh: BokehJS is being loaded, scheduling callback at\", now());\n",
       "      return null;\n",
       "    }\n",
       "    if (js_urls == null || js_urls.length === 0) {\n",
       "      run_callbacks();\n",
       "      return null;\n",
       "    }\n",
       "    console.log(\"Bokeh: BokehJS not loaded, scheduling load and callback at\", now());\n",
       "    root._bokeh_is_loading = js_urls.length;\n",
       "    for (var i = 0; i < js_urls.length; i++) {\n",
       "      var url = js_urls[i];\n",
       "      var s = document.createElement('script');\n",
       "      s.src = url;\n",
       "      s.async = false;\n",
       "      s.onreadystatechange = s.onload = function() {\n",
       "        root._bokeh_is_loading--;\n",
       "        if (root._bokeh_is_loading === 0) {\n",
       "          console.log(\"Bokeh: all BokehJS libraries loaded\");\n",
       "          run_callbacks()\n",
       "        }\n",
       "      };\n",
       "      s.onerror = function() {\n",
       "        console.warn(\"failed to load library \" + url);\n",
       "      };\n",
       "      console.log(\"Bokeh: injecting script tag for BokehJS library: \", url);\n",
       "      document.getElementsByTagName(\"head\")[0].appendChild(s);\n",
       "    }\n",
       "  };var element = document.getElementById(\"9ce99d4d-fbae-44f6-9e03-a5541a3a8d7b\");\n",
       "  if (element == null) {\n",
       "    console.log(\"Bokeh: ERROR: autoload.js configured with elementid '9ce99d4d-fbae-44f6-9e03-a5541a3a8d7b' but no matching script tag was found. \")\n",
       "    return false;\n",
       "  }\n",
       "\n",
       "  var js_urls = [\"https://cdn.pydata.org/bokeh/release/bokeh-0.12.16.min.js\", \"https://cdn.pydata.org/bokeh/release/bokeh-widgets-0.12.16.min.js\", \"https://cdn.pydata.org/bokeh/release/bokeh-tables-0.12.16.min.js\", \"https://cdn.pydata.org/bokeh/release/bokeh-gl-0.12.16.min.js\"];\n",
       "\n",
       "  var inline_js = [\n",
       "    function(Bokeh) {\n",
       "      Bokeh.set_log_level(\"info\");\n",
       "    },\n",
       "    \n",
       "    function(Bokeh) {\n",
       "      \n",
       "    },\n",
       "    function(Bokeh) {\n",
       "      console.log(\"Bokeh: injecting CSS: https://cdn.pydata.org/bokeh/release/bokeh-0.12.16.min.css\");\n",
       "      Bokeh.embed.inject_css(\"https://cdn.pydata.org/bokeh/release/bokeh-0.12.16.min.css\");\n",
       "      console.log(\"Bokeh: injecting CSS: https://cdn.pydata.org/bokeh/release/bokeh-widgets-0.12.16.min.css\");\n",
       "      Bokeh.embed.inject_css(\"https://cdn.pydata.org/bokeh/release/bokeh-widgets-0.12.16.min.css\");\n",
       "      console.log(\"Bokeh: injecting CSS: https://cdn.pydata.org/bokeh/release/bokeh-tables-0.12.16.min.css\");\n",
       "      Bokeh.embed.inject_css(\"https://cdn.pydata.org/bokeh/release/bokeh-tables-0.12.16.min.css\");\n",
       "    }\n",
       "  ];\n",
       "\n",
       "  function run_inline_js() {\n",
       "    \n",
       "    if ((root.Bokeh !== undefined) || (force === true)) {\n",
       "      for (var i = 0; i < inline_js.length; i++) {\n",
       "        inline_js[i].call(root, root.Bokeh);\n",
       "      }if (force === true) {\n",
       "        display_loaded();\n",
       "      }} else if (Date.now() < root._bokeh_timeout) {\n",
       "      setTimeout(run_inline_js, 100);\n",
       "    } else if (!root._bokeh_failed_load) {\n",
       "      console.log(\"Bokeh: BokehJS failed to load within specified timeout.\");\n",
       "      root._bokeh_failed_load = true;\n",
       "    } else if (force !== true) {\n",
       "      var cell = $(document.getElementById(\"9ce99d4d-fbae-44f6-9e03-a5541a3a8d7b\")).parents('.cell').data().cell;\n",
       "      cell.output_area.append_execute_result(NB_LOAD_WARNING)\n",
       "    }\n",
       "\n",
       "  }\n",
       "\n",
       "  if (root._bokeh_is_loading === 0) {\n",
       "    console.log(\"Bokeh: BokehJS loaded, going straight to plotting\");\n",
       "    run_inline_js();\n",
       "  } else {\n",
       "    load_libs(js_urls, function() {\n",
       "      console.log(\"Bokeh: BokehJS plotting callback run at\", now());\n",
       "      run_inline_js();\n",
       "    });\n",
       "  }\n",
       "}(window));"
      ],
      "application/vnd.bokehjs_load.v0+json": "\n(function(root) {\n  function now() {\n    return new Date();\n  }\n\n  var force = true;\n\n  if (typeof (root._bokeh_onload_callbacks) === \"undefined\" || force === true) {\n    root._bokeh_onload_callbacks = [];\n    root._bokeh_is_loading = undefined;\n  }\n\n  \n\n  \n  if (typeof (root._bokeh_timeout) === \"undefined\" || force === true) {\n    root._bokeh_timeout = Date.now() + 5000;\n    root._bokeh_failed_load = false;\n  }\n\n  var NB_LOAD_WARNING = {'data': {'text/html':\n     \"<div style='background-color: #fdd'>\\n\"+\n     \"<p>\\n\"+\n     \"BokehJS does not appear to have successfully loaded. If loading BokehJS from CDN, this \\n\"+\n     \"may be due to a slow or bad network connection. Possible fixes:\\n\"+\n     \"</p>\\n\"+\n     \"<ul>\\n\"+\n     \"<li>re-rerun `output_notebook()` to attempt to load from CDN again, or</li>\\n\"+\n     \"<li>use INLINE resources instead, as so:</li>\\n\"+\n     \"</ul>\\n\"+\n     \"<code>\\n\"+\n     \"from bokeh.resources import INLINE\\n\"+\n     \"output_notebook(resources=INLINE)\\n\"+\n     \"</code>\\n\"+\n     \"</div>\"}};\n\n  function display_loaded() {\n    var el = document.getElementById(\"9ce99d4d-fbae-44f6-9e03-a5541a3a8d7b\");\n    if (el != null) {\n      el.textContent = \"BokehJS is loading...\";\n    }\n    if (root.Bokeh !== undefined) {\n      if (el != null) {\n        el.textContent = \"BokehJS \" + root.Bokeh.version + \" successfully loaded.\";\n      }\n    } else if (Date.now() < root._bokeh_timeout) {\n      setTimeout(display_loaded, 100)\n    }\n  }\n\n\n  function run_callbacks() {\n    try {\n      root._bokeh_onload_callbacks.forEach(function(callback) { callback() });\n    }\n    finally {\n      delete root._bokeh_onload_callbacks\n    }\n    console.info(\"Bokeh: all callbacks have finished\");\n  }\n\n  function load_libs(js_urls, callback) {\n    root._bokeh_onload_callbacks.push(callback);\n    if (root._bokeh_is_loading > 0) {\n      console.log(\"Bokeh: BokehJS is being loaded, scheduling callback at\", now());\n      return null;\n    }\n    if (js_urls == null || js_urls.length === 0) {\n      run_callbacks();\n      return null;\n    }\n    console.log(\"Bokeh: BokehJS not loaded, scheduling load and callback at\", now());\n    root._bokeh_is_loading = js_urls.length;\n    for (var i = 0; i < js_urls.length; i++) {\n      var url = js_urls[i];\n      var s = document.createElement('script');\n      s.src = url;\n      s.async = false;\n      s.onreadystatechange = s.onload = function() {\n        root._bokeh_is_loading--;\n        if (root._bokeh_is_loading === 0) {\n          console.log(\"Bokeh: all BokehJS libraries loaded\");\n          run_callbacks()\n        }\n      };\n      s.onerror = function() {\n        console.warn(\"failed to load library \" + url);\n      };\n      console.log(\"Bokeh: injecting script tag for BokehJS library: \", url);\n      document.getElementsByTagName(\"head\")[0].appendChild(s);\n    }\n  };var element = document.getElementById(\"9ce99d4d-fbae-44f6-9e03-a5541a3a8d7b\");\n  if (element == null) {\n    console.log(\"Bokeh: ERROR: autoload.js configured with elementid '9ce99d4d-fbae-44f6-9e03-a5541a3a8d7b' but no matching script tag was found. \")\n    return false;\n  }\n\n  var js_urls = [\"https://cdn.pydata.org/bokeh/release/bokeh-0.12.16.min.js\", \"https://cdn.pydata.org/bokeh/release/bokeh-widgets-0.12.16.min.js\", \"https://cdn.pydata.org/bokeh/release/bokeh-tables-0.12.16.min.js\", \"https://cdn.pydata.org/bokeh/release/bokeh-gl-0.12.16.min.js\"];\n\n  var inline_js = [\n    function(Bokeh) {\n      Bokeh.set_log_level(\"info\");\n    },\n    \n    function(Bokeh) {\n      \n    },\n    function(Bokeh) {\n      console.log(\"Bokeh: injecting CSS: https://cdn.pydata.org/bokeh/release/bokeh-0.12.16.min.css\");\n      Bokeh.embed.inject_css(\"https://cdn.pydata.org/bokeh/release/bokeh-0.12.16.min.css\");\n      console.log(\"Bokeh: injecting CSS: https://cdn.pydata.org/bokeh/release/bokeh-widgets-0.12.16.min.css\");\n      Bokeh.embed.inject_css(\"https://cdn.pydata.org/bokeh/release/bokeh-widgets-0.12.16.min.css\");\n      console.log(\"Bokeh: injecting CSS: https://cdn.pydata.org/bokeh/release/bokeh-tables-0.12.16.min.css\");\n      Bokeh.embed.inject_css(\"https://cdn.pydata.org/bokeh/release/bokeh-tables-0.12.16.min.css\");\n    }\n  ];\n\n  function run_inline_js() {\n    \n    if ((root.Bokeh !== undefined) || (force === true)) {\n      for (var i = 0; i < inline_js.length; i++) {\n        inline_js[i].call(root, root.Bokeh);\n      }if (force === true) {\n        display_loaded();\n      }} else if (Date.now() < root._bokeh_timeout) {\n      setTimeout(run_inline_js, 100);\n    } else if (!root._bokeh_failed_load) {\n      console.log(\"Bokeh: BokehJS failed to load within specified timeout.\");\n      root._bokeh_failed_load = true;\n    } else if (force !== true) {\n      var cell = $(document.getElementById(\"9ce99d4d-fbae-44f6-9e03-a5541a3a8d7b\")).parents('.cell').data().cell;\n      cell.output_area.append_execute_result(NB_LOAD_WARNING)\n    }\n\n  }\n\n  if (root._bokeh_is_loading === 0) {\n    console.log(\"Bokeh: BokehJS loaded, going straight to plotting\");\n    run_inline_js();\n  } else {\n    load_libs(js_urls, function() {\n      console.log(\"Bokeh: BokehJS plotting callback run at\", now());\n      run_inline_js();\n    });\n  }\n}(window));"
     },
     "metadata": {},
     "output_type": "display_data"
    }
   ],
   "source": [
    "import parambokeh\n",
    "from bokeh.io import output_notebook\n",
    "output_notebook()"
   ]
  },
  {
   "cell_type": "code",
   "execution_count": 3,
   "metadata": {},
   "outputs": [
    {
     "data": {
      "text/html": [
       "\n",
       "    \n",
       "<div class=\"bk-root\">\n",
       "    <div class=\"bk-plotdiv\" id=\"b27c4df6-46fd-4112-9071-642cbd647201\"></div>\n",
       "</div>\n",
       "    <script type=\"application/javascript\">(function(root) {\n",
       "  function embed_document(root) {\n",
       "    \n",
       "  var docs_json = {\"b709f17c-2b0d-48e8-b4ca-5f82b1fcd3da\":{\"roots\":{\"references\":[{\"attributes\":{\"code\":\"data = {p_name: 'num_int', value: cb_obj['value']};\\n    function unique_events(events) {\\n        // Processes the event queue ignoring duplicate events\\n        // of the same type\\n        var unique = [];\\n        var unique_events = [];\\n        for (var i=0; i<events.length; i++) {\\n            [event, data] = events[i];\\n            if (!unique_events.includes(event)) {\\n                unique.unshift(data);\\n                unique_events.push(event);\\n            }\\n        }\\n        return unique;\\n    }\\n\\n    function process_events(comm_state) {\\n        // Iterates over event queue and sends events via Comm\\n        var events = unique_events(comm_state.event_buffer);\\n        for (var i=0; i<events.length; i++) {\\n            var data = events[i];\\n            var comm = Bokeh.comms[data[\\\"comm_id\\\"]];\\n            comm.send(data);\\n        }\\n        comm_state.event_buffer = [];\\n    }\\n\\n    function on_msg(msg){\\n      // Receives acknowledgement from Python, processing event\\n      // and unblocking Comm if event queue empty\\n      msg = JSON.parse(msg.content.data);\\n      var comm_id = msg[\\\"comm_id\\\"]\\n      var comm_state = Bokeh.comm_state[comm_id];\\n      if (comm_state.event_buffer.length) {\\n        process_events(comm_state);\\n        comm_state.blocked = true;\\n        comm_state.time = Date.now()+20;\\n      } else {\\n        comm_state.blocked = false;\\n      }\\n      comm_state.event_buffer = [];\\n      if ((msg.msg_type == \\\"Ready\\\") && msg.content) {\\n        console.log(\\\"Python callback returned following output:\\\", msg.content);\\n      } else if (msg.msg_type == \\\"Error\\\") {\\n        console.log(\\\"Python failed with the following traceback:\\\", msg['traceback'])\\n      }\\n    }\\n\\n    // Initialize Comm\\n    if (Bokeh.comms == null) {\\n      Bokeh.comms = {};\\n      Bokeh.comm_state = {};\\n    }\\n\\n    if ((window.Jupyter !== undefined) && (Jupyter.notebook.kernel != null)) {\\n      var comm_manager = Jupyter.notebook.kernel.comm_manager;\\n      var comm = Bokeh.comms[\\\"c0384072db5341cf994bbadd4554bee4\\\"];\\n      if (comm == null) {\\n        comm = comm_manager.new_comm(\\\"c0384072db5341cf994bbadd4554bee4\\\", {}, {}, {});\\n        comm.on_msg(on_msg);\\n        comm_manager[\\\"c0384072db5341cf994bbadd4554bee4\\\"] = comm;\\n        Bokeh.comms[\\\"c0384072db5341cf994bbadd4554bee4\\\"] = comm;\\n      }\\n    } else {\\n      return\\n    }\\n\\n    // Initialize event queue and timeouts for Comm\\n    var comm_state = Bokeh.comm_state[\\\"c0384072db5341cf994bbadd4554bee4\\\"];\\n    if (comm_state === undefined) {\\n        comm_state = {event_buffer: [], blocked: false, time: Date.now()}\\n        Bokeh.comm_state[\\\"c0384072db5341cf994bbadd4554bee4\\\"] = comm_state\\n    }\\n\\n    // Add current event to queue and process queue if not blocked\\n    event_name = cb_obj.event_name\\n    data['comm_id'] = \\\"c0384072db5341cf994bbadd4554bee4\\\";\\n    timeout = comm_state.time + 20000;\\n    if ((window.Jupyter == null) | (Jupyter.notebook.kernel == null)) {\\n    } else if ((comm_state.blocked && (Date.now() < timeout))) {\\n        comm_state.event_buffer.unshift([event_name, data]);\\n    } else {\\n        comm_state.event_buffer.unshift([event_name, data]);\\n        setTimeout(function() { process_events(comm_state); }, 20);\\n        comm_state.blocked = true;\\n        comm_state.time = Date.now()+20;\\n    }\\n\"},\"id\":\"fbb04d0e-e72d-4c95-a78a-9b0e2e572008\",\"type\":\"CustomJS\"},{\"attributes\":{\"callback\":null,\"js_property_callbacks\":{\"change:value\":[{\"id\":\"716351bf-0284-4c3b-9b27-220456eea326\",\"type\":\"CustomJS\"}]},\"title\":\"string_value\",\"value\":\"str\"},\"id\":\"bca88661-89e6-4d86-9f49-d6065dd1661c\",\"type\":\"TextInput\"},{\"attributes\":{\"code\":\"data = {p_name: 'string_value', value: cb_obj['value']};\\n    function unique_events(events) {\\n        // Processes the event queue ignoring duplicate events\\n        // of the same type\\n        var unique = [];\\n        var unique_events = [];\\n        for (var i=0; i<events.length; i++) {\\n            [event, data] = events[i];\\n            if (!unique_events.includes(event)) {\\n                unique.unshift(data);\\n                unique_events.push(event);\\n            }\\n        }\\n        return unique;\\n    }\\n\\n    function process_events(comm_state) {\\n        // Iterates over event queue and sends events via Comm\\n        var events = unique_events(comm_state.event_buffer);\\n        for (var i=0; i<events.length; i++) {\\n            var data = events[i];\\n            var comm = Bokeh.comms[data[\\\"comm_id\\\"]];\\n            comm.send(data);\\n        }\\n        comm_state.event_buffer = [];\\n    }\\n\\n    function on_msg(msg){\\n      // Receives acknowledgement from Python, processing event\\n      // and unblocking Comm if event queue empty\\n      msg = JSON.parse(msg.content.data);\\n      var comm_id = msg[\\\"comm_id\\\"]\\n      var comm_state = Bokeh.comm_state[comm_id];\\n      if (comm_state.event_buffer.length) {\\n        process_events(comm_state);\\n        comm_state.blocked = true;\\n        comm_state.time = Date.now()+20;\\n      } else {\\n        comm_state.blocked = false;\\n      }\\n      comm_state.event_buffer = [];\\n      if ((msg.msg_type == \\\"Ready\\\") && msg.content) {\\n        console.log(\\\"Python callback returned following output:\\\", msg.content);\\n      } else if (msg.msg_type == \\\"Error\\\") {\\n        console.log(\\\"Python failed with the following traceback:\\\", msg['traceback'])\\n      }\\n    }\\n\\n    // Initialize Comm\\n    if (Bokeh.comms == null) {\\n      Bokeh.comms = {};\\n      Bokeh.comm_state = {};\\n    }\\n\\n    if ((window.Jupyter !== undefined) && (Jupyter.notebook.kernel != null)) {\\n      var comm_manager = Jupyter.notebook.kernel.comm_manager;\\n      var comm = Bokeh.comms[\\\"c0384072db5341cf994bbadd4554bee4\\\"];\\n      if (comm == null) {\\n        comm = comm_manager.new_comm(\\\"c0384072db5341cf994bbadd4554bee4\\\", {}, {}, {});\\n        comm.on_msg(on_msg);\\n        comm_manager[\\\"c0384072db5341cf994bbadd4554bee4\\\"] = comm;\\n        Bokeh.comms[\\\"c0384072db5341cf994bbadd4554bee4\\\"] = comm;\\n      }\\n    } else {\\n      return\\n    }\\n\\n    // Initialize event queue and timeouts for Comm\\n    var comm_state = Bokeh.comm_state[\\\"c0384072db5341cf994bbadd4554bee4\\\"];\\n    if (comm_state === undefined) {\\n        comm_state = {event_buffer: [], blocked: false, time: Date.now()}\\n        Bokeh.comm_state[\\\"c0384072db5341cf994bbadd4554bee4\\\"] = comm_state\\n    }\\n\\n    // Add current event to queue and process queue if not blocked\\n    event_name = cb_obj.event_name\\n    data['comm_id'] = \\\"c0384072db5341cf994bbadd4554bee4\\\";\\n    timeout = comm_state.time + 20000;\\n    if ((window.Jupyter == null) | (Jupyter.notebook.kernel == null)) {\\n    } else if ((comm_state.blocked && (Date.now() < timeout))) {\\n        comm_state.event_buffer.unshift([event_name, data]);\\n    } else {\\n        comm_state.event_buffer.unshift([event_name, data]);\\n        setTimeout(function() { process_events(comm_state); }, 20);\\n        comm_state.blocked = true;\\n        comm_state.time = Date.now()+20;\\n    }\\n\"},\"id\":\"716351bf-0284-4c3b-9b27-220456eea326\",\"type\":\"CustomJS\"},{\"attributes\":{\"code\":\"data = {p_name: 'x', value: cb_obj['value']};\\n    function unique_events(events) {\\n        // Processes the event queue ignoring duplicate events\\n        // of the same type\\n        var unique = [];\\n        var unique_events = [];\\n        for (var i=0; i<events.length; i++) {\\n            [event, data] = events[i];\\n            if (!unique_events.includes(event)) {\\n                unique.unshift(data);\\n                unique_events.push(event);\\n            }\\n        }\\n        return unique;\\n    }\\n\\n    function process_events(comm_state) {\\n        // Iterates over event queue and sends events via Comm\\n        var events = unique_events(comm_state.event_buffer);\\n        for (var i=0; i<events.length; i++) {\\n            var data = events[i];\\n            var comm = Bokeh.comms[data[\\\"comm_id\\\"]];\\n            comm.send(data);\\n        }\\n        comm_state.event_buffer = [];\\n    }\\n\\n    function on_msg(msg){\\n      // Receives acknowledgement from Python, processing event\\n      // and unblocking Comm if event queue empty\\n      msg = JSON.parse(msg.content.data);\\n      var comm_id = msg[\\\"comm_id\\\"]\\n      var comm_state = Bokeh.comm_state[comm_id];\\n      if (comm_state.event_buffer.length) {\\n        process_events(comm_state);\\n        comm_state.blocked = true;\\n        comm_state.time = Date.now()+20;\\n      } else {\\n        comm_state.blocked = false;\\n      }\\n      comm_state.event_buffer = [];\\n      if ((msg.msg_type == \\\"Ready\\\") && msg.content) {\\n        console.log(\\\"Python callback returned following output:\\\", msg.content);\\n      } else if (msg.msg_type == \\\"Error\\\") {\\n        console.log(\\\"Python failed with the following traceback:\\\", msg['traceback'])\\n      }\\n    }\\n\\n    // Initialize Comm\\n    if (Bokeh.comms == null) {\\n      Bokeh.comms = {};\\n      Bokeh.comm_state = {};\\n    }\\n\\n    if ((window.Jupyter !== undefined) && (Jupyter.notebook.kernel != null)) {\\n      var comm_manager = Jupyter.notebook.kernel.comm_manager;\\n      var comm = Bokeh.comms[\\\"c0384072db5341cf994bbadd4554bee4\\\"];\\n      if (comm == null) {\\n        comm = comm_manager.new_comm(\\\"c0384072db5341cf994bbadd4554bee4\\\", {}, {}, {});\\n        comm.on_msg(on_msg);\\n        comm_manager[\\\"c0384072db5341cf994bbadd4554bee4\\\"] = comm;\\n        Bokeh.comms[\\\"c0384072db5341cf994bbadd4554bee4\\\"] = comm;\\n      }\\n    } else {\\n      return\\n    }\\n\\n    // Initialize event queue and timeouts for Comm\\n    var comm_state = Bokeh.comm_state[\\\"c0384072db5341cf994bbadd4554bee4\\\"];\\n    if (comm_state === undefined) {\\n        comm_state = {event_buffer: [], blocked: false, time: Date.now()}\\n        Bokeh.comm_state[\\\"c0384072db5341cf994bbadd4554bee4\\\"] = comm_state\\n    }\\n\\n    // Add current event to queue and process queue if not blocked\\n    event_name = cb_obj.event_name\\n    data['comm_id'] = \\\"c0384072db5341cf994bbadd4554bee4\\\";\\n    timeout = comm_state.time + 20000;\\n    if ((window.Jupyter == null) | (Jupyter.notebook.kernel == null)) {\\n    } else if ((comm_state.blocked && (Date.now() < timeout))) {\\n        comm_state.event_buffer.unshift([event_name, data]);\\n    } else {\\n        comm_state.event_buffer.unshift([event_name, data]);\\n        setTimeout(function() { process_events(comm_state); }, 20);\\n        comm_state.blocked = true;\\n        comm_state.time = Date.now()+20;\\n    }\\n\"},\"id\":\"e157f188-b40b-40dc-b7c5-7b234e968438\",\"type\":\"CustomJS\"},{\"attributes\":{\"callback\":null,\"end\":100000,\"js_property_callbacks\":{\"change:value\":[{\"id\":\"fbb04d0e-e72d-4c95-a78a-9b0e2e572008\",\"type\":\"CustomJS\"}]},\"start\":-200,\"title\":\"num_int\",\"value\":50000},\"id\":\"4615fdcc-e18c-4b37-8d93-de3cd5fc3632\",\"type\":\"Slider\"},{\"attributes\":{\"text\":\"<b>y</b>: Not editable\"},\"id\":\"e2f38ed0-0675-4349-ad11-94fa647ef15b\",\"type\":\"Div\"},{\"attributes\":{\"code\":\"data = {p_name: 'integer_range', value: cb_obj['value']};\\n    function unique_events(events) {\\n        // Processes the event queue ignoring duplicate events\\n        // of the same type\\n        var unique = [];\\n        var unique_events = [];\\n        for (var i=0; i<events.length; i++) {\\n            [event, data] = events[i];\\n            if (!unique_events.includes(event)) {\\n                unique.unshift(data);\\n                unique_events.push(event);\\n            }\\n        }\\n        return unique;\\n    }\\n\\n    function process_events(comm_state) {\\n        // Iterates over event queue and sends events via Comm\\n        var events = unique_events(comm_state.event_buffer);\\n        for (var i=0; i<events.length; i++) {\\n            var data = events[i];\\n            var comm = Bokeh.comms[data[\\\"comm_id\\\"]];\\n            comm.send(data);\\n        }\\n        comm_state.event_buffer = [];\\n    }\\n\\n    function on_msg(msg){\\n      // Receives acknowledgement from Python, processing event\\n      // and unblocking Comm if event queue empty\\n      msg = JSON.parse(msg.content.data);\\n      var comm_id = msg[\\\"comm_id\\\"]\\n      var comm_state = Bokeh.comm_state[comm_id];\\n      if (comm_state.event_buffer.length) {\\n        process_events(comm_state);\\n        comm_state.blocked = true;\\n        comm_state.time = Date.now()+20;\\n      } else {\\n        comm_state.blocked = false;\\n      }\\n      comm_state.event_buffer = [];\\n      if ((msg.msg_type == \\\"Ready\\\") && msg.content) {\\n        console.log(\\\"Python callback returned following output:\\\", msg.content);\\n      } else if (msg.msg_type == \\\"Error\\\") {\\n        console.log(\\\"Python failed with the following traceback:\\\", msg['traceback'])\\n      }\\n    }\\n\\n    // Initialize Comm\\n    if (Bokeh.comms == null) {\\n      Bokeh.comms = {};\\n      Bokeh.comm_state = {};\\n    }\\n\\n    if ((window.Jupyter !== undefined) && (Jupyter.notebook.kernel != null)) {\\n      var comm_manager = Jupyter.notebook.kernel.comm_manager;\\n      var comm = Bokeh.comms[\\\"c0384072db5341cf994bbadd4554bee4\\\"];\\n      if (comm == null) {\\n        comm = comm_manager.new_comm(\\\"c0384072db5341cf994bbadd4554bee4\\\", {}, {}, {});\\n        comm.on_msg(on_msg);\\n        comm_manager[\\\"c0384072db5341cf994bbadd4554bee4\\\"] = comm;\\n        Bokeh.comms[\\\"c0384072db5341cf994bbadd4554bee4\\\"] = comm;\\n      }\\n    } else {\\n      return\\n    }\\n\\n    // Initialize event queue and timeouts for Comm\\n    var comm_state = Bokeh.comm_state[\\\"c0384072db5341cf994bbadd4554bee4\\\"];\\n    if (comm_state === undefined) {\\n        comm_state = {event_buffer: [], blocked: false, time: Date.now()}\\n        Bokeh.comm_state[\\\"c0384072db5341cf994bbadd4554bee4\\\"] = comm_state\\n    }\\n\\n    // Add current event to queue and process queue if not blocked\\n    event_name = cb_obj.event_name\\n    data['comm_id'] = \\\"c0384072db5341cf994bbadd4554bee4\\\";\\n    timeout = comm_state.time + 20000;\\n    if ((window.Jupyter == null) | (Jupyter.notebook.kernel == null)) {\\n    } else if ((comm_state.blocked && (Date.now() < timeout))) {\\n        comm_state.event_buffer.unshift([event_name, data]);\\n    } else {\\n        comm_state.event_buffer.unshift([event_name, data]);\\n        setTimeout(function() { process_events(comm_state); }, 20);\\n        comm_state.blocked = true;\\n        comm_state.time = Date.now()+20;\\n    }\\n\"},\"id\":\"d5544d08-3d59-4778-a7b5-1189f5a55dcd\",\"type\":\"CustomJS\"},{\"attributes\":{\"callback\":null,\"end\":10,\"js_property_callbacks\":{\"change:value\":[{\"id\":\"d5544d08-3d59-4778-a7b5-1189f5a55dcd\",\"type\":\"CustomJS\"}]},\"start\":0,\"title\":\"integer_range\",\"value\":[3,7]},\"id\":\"b72ec41b-d9e1-4a10-ba13-c491e112e685\",\"type\":\"RangeSlider\"},{\"attributes\":{\"code\":\"data = {p_name: 'float_with_soft_bounds', value: cb_obj['value']};\\n    function unique_events(events) {\\n        // Processes the event queue ignoring duplicate events\\n        // of the same type\\n        var unique = [];\\n        var unique_events = [];\\n        for (var i=0; i<events.length; i++) {\\n            [event, data] = events[i];\\n            if (!unique_events.includes(event)) {\\n                unique.unshift(data);\\n                unique_events.push(event);\\n            }\\n        }\\n        return unique;\\n    }\\n\\n    function process_events(comm_state) {\\n        // Iterates over event queue and sends events via Comm\\n        var events = unique_events(comm_state.event_buffer);\\n        for (var i=0; i<events.length; i++) {\\n            var data = events[i];\\n            var comm = Bokeh.comms[data[\\\"comm_id\\\"]];\\n            comm.send(data);\\n        }\\n        comm_state.event_buffer = [];\\n    }\\n\\n    function on_msg(msg){\\n      // Receives acknowledgement from Python, processing event\\n      // and unblocking Comm if event queue empty\\n      msg = JSON.parse(msg.content.data);\\n      var comm_id = msg[\\\"comm_id\\\"]\\n      var comm_state = Bokeh.comm_state[comm_id];\\n      if (comm_state.event_buffer.length) {\\n        process_events(comm_state);\\n        comm_state.blocked = true;\\n        comm_state.time = Date.now()+20;\\n      } else {\\n        comm_state.blocked = false;\\n      }\\n      comm_state.event_buffer = [];\\n      if ((msg.msg_type == \\\"Ready\\\") && msg.content) {\\n        console.log(\\\"Python callback returned following output:\\\", msg.content);\\n      } else if (msg.msg_type == \\\"Error\\\") {\\n        console.log(\\\"Python failed with the following traceback:\\\", msg['traceback'])\\n      }\\n    }\\n\\n    // Initialize Comm\\n    if (Bokeh.comms == null) {\\n      Bokeh.comms = {};\\n      Bokeh.comm_state = {};\\n    }\\n\\n    if ((window.Jupyter !== undefined) && (Jupyter.notebook.kernel != null)) {\\n      var comm_manager = Jupyter.notebook.kernel.comm_manager;\\n      var comm = Bokeh.comms[\\\"c0384072db5341cf994bbadd4554bee4\\\"];\\n      if (comm == null) {\\n        comm = comm_manager.new_comm(\\\"c0384072db5341cf994bbadd4554bee4\\\", {}, {}, {});\\n        comm.on_msg(on_msg);\\n        comm_manager[\\\"c0384072db5341cf994bbadd4554bee4\\\"] = comm;\\n        Bokeh.comms[\\\"c0384072db5341cf994bbadd4554bee4\\\"] = comm;\\n      }\\n    } else {\\n      return\\n    }\\n\\n    // Initialize event queue and timeouts for Comm\\n    var comm_state = Bokeh.comm_state[\\\"c0384072db5341cf994bbadd4554bee4\\\"];\\n    if (comm_state === undefined) {\\n        comm_state = {event_buffer: [], blocked: false, time: Date.now()}\\n        Bokeh.comm_state[\\\"c0384072db5341cf994bbadd4554bee4\\\"] = comm_state\\n    }\\n\\n    // Add current event to queue and process queue if not blocked\\n    event_name = cb_obj.event_name\\n    data['comm_id'] = \\\"c0384072db5341cf994bbadd4554bee4\\\";\\n    timeout = comm_state.time + 20000;\\n    if ((window.Jupyter == null) | (Jupyter.notebook.kernel == null)) {\\n    } else if ((comm_state.blocked && (Date.now() < timeout))) {\\n        comm_state.event_buffer.unshift([event_name, data]);\\n    } else {\\n        comm_state.event_buffer.unshift([event_name, data]);\\n        setTimeout(function() { process_events(comm_state); }, 20);\\n        comm_state.blocked = true;\\n        comm_state.time = Date.now()+20;\\n    }\\n\"},\"id\":\"55a9cde8-547a-4647-9821-d7175e02aff5\",\"type\":\"CustomJS\"},{\"attributes\":{\"callback\":null,\"js_property_callbacks\":{\"change:value\":[{\"id\":\"a7496c30-0ff3-45fc-a724-558879c68989\",\"type\":\"CustomJS\"}]},\"title\":\"unbounded_int\",\"value\":\"23\"},\"id\":\"d4c1b8ab-c6fe-4cc3-99aa-6f4ab6f48a03\",\"type\":\"TextInput\"},{\"attributes\":{\"callback\":null,\"end\":2,\"format\":\"0[.]0\",\"js_property_callbacks\":{\"change:value\":[{\"id\":\"55a9cde8-547a-4647-9821-d7175e02aff5\",\"type\":\"CustomJS\"}]},\"start\":0,\"step\":0.1,\"title\":\"float_with_soft_bounds\",\"value\":0.5},\"id\":\"f04eaeff-a75f-4eef-b7ae-000ee589aa18\",\"type\":\"Slider\"},{\"attributes\":{\"code\":\"data = {p_name: 'float_with_hard_bounds', value: cb_obj['value']};\\n    function unique_events(events) {\\n        // Processes the event queue ignoring duplicate events\\n        // of the same type\\n        var unique = [];\\n        var unique_events = [];\\n        for (var i=0; i<events.length; i++) {\\n            [event, data] = events[i];\\n            if (!unique_events.includes(event)) {\\n                unique.unshift(data);\\n                unique_events.push(event);\\n            }\\n        }\\n        return unique;\\n    }\\n\\n    function process_events(comm_state) {\\n        // Iterates over event queue and sends events via Comm\\n        var events = unique_events(comm_state.event_buffer);\\n        for (var i=0; i<events.length; i++) {\\n            var data = events[i];\\n            var comm = Bokeh.comms[data[\\\"comm_id\\\"]];\\n            comm.send(data);\\n        }\\n        comm_state.event_buffer = [];\\n    }\\n\\n    function on_msg(msg){\\n      // Receives acknowledgement from Python, processing event\\n      // and unblocking Comm if event queue empty\\n      msg = JSON.parse(msg.content.data);\\n      var comm_id = msg[\\\"comm_id\\\"]\\n      var comm_state = Bokeh.comm_state[comm_id];\\n      if (comm_state.event_buffer.length) {\\n        process_events(comm_state);\\n        comm_state.blocked = true;\\n        comm_state.time = Date.now()+20;\\n      } else {\\n        comm_state.blocked = false;\\n      }\\n      comm_state.event_buffer = [];\\n      if ((msg.msg_type == \\\"Ready\\\") && msg.content) {\\n        console.log(\\\"Python callback returned following output:\\\", msg.content);\\n      } else if (msg.msg_type == \\\"Error\\\") {\\n        console.log(\\\"Python failed with the following traceback:\\\", msg['traceback'])\\n      }\\n    }\\n\\n    // Initialize Comm\\n    if (Bokeh.comms == null) {\\n      Bokeh.comms = {};\\n      Bokeh.comm_state = {};\\n    }\\n\\n    if ((window.Jupyter !== undefined) && (Jupyter.notebook.kernel != null)) {\\n      var comm_manager = Jupyter.notebook.kernel.comm_manager;\\n      var comm = Bokeh.comms[\\\"c0384072db5341cf994bbadd4554bee4\\\"];\\n      if (comm == null) {\\n        comm = comm_manager.new_comm(\\\"c0384072db5341cf994bbadd4554bee4\\\", {}, {}, {});\\n        comm.on_msg(on_msg);\\n        comm_manager[\\\"c0384072db5341cf994bbadd4554bee4\\\"] = comm;\\n        Bokeh.comms[\\\"c0384072db5341cf994bbadd4554bee4\\\"] = comm;\\n      }\\n    } else {\\n      return\\n    }\\n\\n    // Initialize event queue and timeouts for Comm\\n    var comm_state = Bokeh.comm_state[\\\"c0384072db5341cf994bbadd4554bee4\\\"];\\n    if (comm_state === undefined) {\\n        comm_state = {event_buffer: [], blocked: false, time: Date.now()}\\n        Bokeh.comm_state[\\\"c0384072db5341cf994bbadd4554bee4\\\"] = comm_state\\n    }\\n\\n    // Add current event to queue and process queue if not blocked\\n    event_name = cb_obj.event_name\\n    data['comm_id'] = \\\"c0384072db5341cf994bbadd4554bee4\\\";\\n    timeout = comm_state.time + 20000;\\n    if ((window.Jupyter == null) | (Jupyter.notebook.kernel == null)) {\\n    } else if ((comm_state.blocked && (Date.now() < timeout))) {\\n        comm_state.event_buffer.unshift([event_name, data]);\\n    } else {\\n        comm_state.event_buffer.unshift([event_name, data]);\\n        setTimeout(function() { process_events(comm_state); }, 20);\\n        comm_state.blocked = true;\\n        comm_state.time = Date.now()+20;\\n    }\\n\"},\"id\":\"dba5e26a-07ce-4122-a24a-07db59617801\",\"type\":\"CustomJS\"},{\"attributes\":{\"callback\":null,\"end\":10,\"format\":\"0[.]0\",\"js_property_callbacks\":{\"change:value\":[{\"id\":\"dba5e26a-07ce-4122-a24a-07db59617801\",\"type\":\"CustomJS\"}]},\"start\":7.5,\"step\":0.1,\"title\":\"float_with_hard_bounds\",\"value\":8.2},\"id\":\"ce8d99a9-ecce-4b54-bbe9-6d4cfa39fd47\",\"type\":\"Slider\"},{\"attributes\":{\"code\":\"data = {p_name: 'float_range', value: cb_obj['value']};\\n    function unique_events(events) {\\n        // Processes the event queue ignoring duplicate events\\n        // of the same type\\n        var unique = [];\\n        var unique_events = [];\\n        for (var i=0; i<events.length; i++) {\\n            [event, data] = events[i];\\n            if (!unique_events.includes(event)) {\\n                unique.unshift(data);\\n                unique_events.push(event);\\n            }\\n        }\\n        return unique;\\n    }\\n\\n    function process_events(comm_state) {\\n        // Iterates over event queue and sends events via Comm\\n        var events = unique_events(comm_state.event_buffer);\\n        for (var i=0; i<events.length; i++) {\\n            var data = events[i];\\n            var comm = Bokeh.comms[data[\\\"comm_id\\\"]];\\n            comm.send(data);\\n        }\\n        comm_state.event_buffer = [];\\n    }\\n\\n    function on_msg(msg){\\n      // Receives acknowledgement from Python, processing event\\n      // and unblocking Comm if event queue empty\\n      msg = JSON.parse(msg.content.data);\\n      var comm_id = msg[\\\"comm_id\\\"]\\n      var comm_state = Bokeh.comm_state[comm_id];\\n      if (comm_state.event_buffer.length) {\\n        process_events(comm_state);\\n        comm_state.blocked = true;\\n        comm_state.time = Date.now()+20;\\n      } else {\\n        comm_state.blocked = false;\\n      }\\n      comm_state.event_buffer = [];\\n      if ((msg.msg_type == \\\"Ready\\\") && msg.content) {\\n        console.log(\\\"Python callback returned following output:\\\", msg.content);\\n      } else if (msg.msg_type == \\\"Error\\\") {\\n        console.log(\\\"Python failed with the following traceback:\\\", msg['traceback'])\\n      }\\n    }\\n\\n    // Initialize Comm\\n    if (Bokeh.comms == null) {\\n      Bokeh.comms = {};\\n      Bokeh.comm_state = {};\\n    }\\n\\n    if ((window.Jupyter !== undefined) && (Jupyter.notebook.kernel != null)) {\\n      var comm_manager = Jupyter.notebook.kernel.comm_manager;\\n      var comm = Bokeh.comms[\\\"c0384072db5341cf994bbadd4554bee4\\\"];\\n      if (comm == null) {\\n        comm = comm_manager.new_comm(\\\"c0384072db5341cf994bbadd4554bee4\\\", {}, {}, {});\\n        comm.on_msg(on_msg);\\n        comm_manager[\\\"c0384072db5341cf994bbadd4554bee4\\\"] = comm;\\n        Bokeh.comms[\\\"c0384072db5341cf994bbadd4554bee4\\\"] = comm;\\n      }\\n    } else {\\n      return\\n    }\\n\\n    // Initialize event queue and timeouts for Comm\\n    var comm_state = Bokeh.comm_state[\\\"c0384072db5341cf994bbadd4554bee4\\\"];\\n    if (comm_state === undefined) {\\n        comm_state = {event_buffer: [], blocked: false, time: Date.now()}\\n        Bokeh.comm_state[\\\"c0384072db5341cf994bbadd4554bee4\\\"] = comm_state\\n    }\\n\\n    // Add current event to queue and process queue if not blocked\\n    event_name = cb_obj.event_name\\n    data['comm_id'] = \\\"c0384072db5341cf994bbadd4554bee4\\\";\\n    timeout = comm_state.time + 20000;\\n    if ((window.Jupyter == null) | (Jupyter.notebook.kernel == null)) {\\n    } else if ((comm_state.blocked && (Date.now() < timeout))) {\\n        comm_state.event_buffer.unshift([event_name, data]);\\n    } else {\\n        comm_state.event_buffer.unshift([event_name, data]);\\n        setTimeout(function() { process_events(comm_state); }, 20);\\n        comm_state.blocked = true;\\n        comm_state.time = Date.now()+20;\\n    }\\n\"},\"id\":\"943661de-165d-4114-88f6-86c1556e2078\",\"type\":\"CustomJS\"},{\"attributes\":{\"callback\":null,\"end\":3.145,\"js_property_callbacks\":{\"change:value\":[{\"id\":\"943661de-165d-4114-88f6-86c1556e2078\",\"type\":\"CustomJS\"}]},\"start\":0,\"title\":\"float_range\",\"value\":[0,1.57]},\"id\":\"cdada4e8-c4f3-4b60-9008-d25c2e12d438\",\"type\":\"RangeSlider\"},{\"attributes\":{\"code\":\"data = {p_name: 'dictionary', value: cb_obj['value']};\\n    function unique_events(events) {\\n        // Processes the event queue ignoring duplicate events\\n        // of the same type\\n        var unique = [];\\n        var unique_events = [];\\n        for (var i=0; i<events.length; i++) {\\n            [event, data] = events[i];\\n            if (!unique_events.includes(event)) {\\n                unique.unshift(data);\\n                unique_events.push(event);\\n            }\\n        }\\n        return unique;\\n    }\\n\\n    function process_events(comm_state) {\\n        // Iterates over event queue and sends events via Comm\\n        var events = unique_events(comm_state.event_buffer);\\n        for (var i=0; i<events.length; i++) {\\n            var data = events[i];\\n            var comm = Bokeh.comms[data[\\\"comm_id\\\"]];\\n            comm.send(data);\\n        }\\n        comm_state.event_buffer = [];\\n    }\\n\\n    function on_msg(msg){\\n      // Receives acknowledgement from Python, processing event\\n      // and unblocking Comm if event queue empty\\n      msg = JSON.parse(msg.content.data);\\n      var comm_id = msg[\\\"comm_id\\\"]\\n      var comm_state = Bokeh.comm_state[comm_id];\\n      if (comm_state.event_buffer.length) {\\n        process_events(comm_state);\\n        comm_state.blocked = true;\\n        comm_state.time = Date.now()+20;\\n      } else {\\n        comm_state.blocked = false;\\n      }\\n      comm_state.event_buffer = [];\\n      if ((msg.msg_type == \\\"Ready\\\") && msg.content) {\\n        console.log(\\\"Python callback returned following output:\\\", msg.content);\\n      } else if (msg.msg_type == \\\"Error\\\") {\\n        console.log(\\\"Python failed with the following traceback:\\\", msg['traceback'])\\n      }\\n    }\\n\\n    // Initialize Comm\\n    if (Bokeh.comms == null) {\\n      Bokeh.comms = {};\\n      Bokeh.comm_state = {};\\n    }\\n\\n    if ((window.Jupyter !== undefined) && (Jupyter.notebook.kernel != null)) {\\n      var comm_manager = Jupyter.notebook.kernel.comm_manager;\\n      var comm = Bokeh.comms[\\\"c0384072db5341cf994bbadd4554bee4\\\"];\\n      if (comm == null) {\\n        comm = comm_manager.new_comm(\\\"c0384072db5341cf994bbadd4554bee4\\\", {}, {}, {});\\n        comm.on_msg(on_msg);\\n        comm_manager[\\\"c0384072db5341cf994bbadd4554bee4\\\"] = comm;\\n        Bokeh.comms[\\\"c0384072db5341cf994bbadd4554bee4\\\"] = comm;\\n      }\\n    } else {\\n      return\\n    }\\n\\n    // Initialize event queue and timeouts for Comm\\n    var comm_state = Bokeh.comm_state[\\\"c0384072db5341cf994bbadd4554bee4\\\"];\\n    if (comm_state === undefined) {\\n        comm_state = {event_buffer: [], blocked: false, time: Date.now()}\\n        Bokeh.comm_state[\\\"c0384072db5341cf994bbadd4554bee4\\\"] = comm_state\\n    }\\n\\n    // Add current event to queue and process queue if not blocked\\n    event_name = cb_obj.event_name\\n    data['comm_id'] = \\\"c0384072db5341cf994bbadd4554bee4\\\";\\n    timeout = comm_state.time + 20000;\\n    if ((window.Jupyter == null) | (Jupyter.notebook.kernel == null)) {\\n    } else if ((comm_state.blocked && (Date.now() < timeout))) {\\n        comm_state.event_buffer.unshift([event_name, data]);\\n    } else {\\n        comm_state.event_buffer.unshift([event_name, data]);\\n        setTimeout(function() { process_events(comm_state); }, 20);\\n        comm_state.blocked = true;\\n        comm_state.time = Date.now()+20;\\n    }\\n\"},\"id\":\"b1b47c42-e87a-4e26-80e1-76bf1e36438c\",\"type\":\"CustomJS\"},{\"attributes\":{\"callback\":null,\"js_property_callbacks\":{\"change:value\":[{\"id\":\"b1b47c42-e87a-4e26-80e1-76bf1e36438c\",\"type\":\"CustomJS\"}]},\"title\":\"dictionary\",\"value\":\"{'a': 2, 'b': 9}\"},\"id\":\"0531dfbb-c334-4b0d-9abe-c012d46781b1\",\"type\":\"TextInput\"},{\"attributes\":{\"code\":\"data = {p_name: 'unbounded_float', value: cb_obj['value']};\\n    function unique_events(events) {\\n        // Processes the event queue ignoring duplicate events\\n        // of the same type\\n        var unique = [];\\n        var unique_events = [];\\n        for (var i=0; i<events.length; i++) {\\n            [event, data] = events[i];\\n            if (!unique_events.includes(event)) {\\n                unique.unshift(data);\\n                unique_events.push(event);\\n            }\\n        }\\n        return unique;\\n    }\\n\\n    function process_events(comm_state) {\\n        // Iterates over event queue and sends events via Comm\\n        var events = unique_events(comm_state.event_buffer);\\n        for (var i=0; i<events.length; i++) {\\n            var data = events[i];\\n            var comm = Bokeh.comms[data[\\\"comm_id\\\"]];\\n            comm.send(data);\\n        }\\n        comm_state.event_buffer = [];\\n    }\\n\\n    function on_msg(msg){\\n      // Receives acknowledgement from Python, processing event\\n      // and unblocking Comm if event queue empty\\n      msg = JSON.parse(msg.content.data);\\n      var comm_id = msg[\\\"comm_id\\\"]\\n      var comm_state = Bokeh.comm_state[comm_id];\\n      if (comm_state.event_buffer.length) {\\n        process_events(comm_state);\\n        comm_state.blocked = true;\\n        comm_state.time = Date.now()+20;\\n      } else {\\n        comm_state.blocked = false;\\n      }\\n      comm_state.event_buffer = [];\\n      if ((msg.msg_type == \\\"Ready\\\") && msg.content) {\\n        console.log(\\\"Python callback returned following output:\\\", msg.content);\\n      } else if (msg.msg_type == \\\"Error\\\") {\\n        console.log(\\\"Python failed with the following traceback:\\\", msg['traceback'])\\n      }\\n    }\\n\\n    // Initialize Comm\\n    if (Bokeh.comms == null) {\\n      Bokeh.comms = {};\\n      Bokeh.comm_state = {};\\n    }\\n\\n    if ((window.Jupyter !== undefined) && (Jupyter.notebook.kernel != null)) {\\n      var comm_manager = Jupyter.notebook.kernel.comm_manager;\\n      var comm = Bokeh.comms[\\\"c0384072db5341cf994bbadd4554bee4\\\"];\\n      if (comm == null) {\\n        comm = comm_manager.new_comm(\\\"c0384072db5341cf994bbadd4554bee4\\\", {}, {}, {});\\n        comm.on_msg(on_msg);\\n        comm_manager[\\\"c0384072db5341cf994bbadd4554bee4\\\"] = comm;\\n        Bokeh.comms[\\\"c0384072db5341cf994bbadd4554bee4\\\"] = comm;\\n      }\\n    } else {\\n      return\\n    }\\n\\n    // Initialize event queue and timeouts for Comm\\n    var comm_state = Bokeh.comm_state[\\\"c0384072db5341cf994bbadd4554bee4\\\"];\\n    if (comm_state === undefined) {\\n        comm_state = {event_buffer: [], blocked: false, time: Date.now()}\\n        Bokeh.comm_state[\\\"c0384072db5341cf994bbadd4554bee4\\\"] = comm_state\\n    }\\n\\n    // Add current event to queue and process queue if not blocked\\n    event_name = cb_obj.event_name\\n    data['comm_id'] = \\\"c0384072db5341cf994bbadd4554bee4\\\";\\n    timeout = comm_state.time + 20000;\\n    if ((window.Jupyter == null) | (Jupyter.notebook.kernel == null)) {\\n    } else if ((comm_state.blocked && (Date.now() < timeout))) {\\n        comm_state.event_buffer.unshift([event_name, data]);\\n    } else {\\n        comm_state.event_buffer.unshift([event_name, data]);\\n        setTimeout(function() { process_events(comm_state); }, 20);\\n        comm_state.blocked = true;\\n        comm_state.time = Date.now()+20;\\n    }\\n\"},\"id\":\"b2f9fa49-cf0f-4e09-bd8d-de0302d9d595\",\"type\":\"CustomJS\"},{\"attributes\":{\"callback\":null,\"js_property_callbacks\":{\"change:value\":[{\"id\":\"b2f9fa49-cf0f-4e09-bd8d-de0302d9d595\",\"type\":\"CustomJS\"}]},\"title\":\"unbounded_float\",\"value\":\"30.01\"},\"id\":\"5c89c903-0e76-4638-8f96-e5a8059aea8e\",\"type\":\"TextInput\"},{\"attributes\":{\"text\":\"<b>BaseClass</b>\"},\"id\":\"3aa93480-e812-427c-b763-b6abf16fc448\",\"type\":\"Div\"},{\"attributes\":{\"children\":[{\"id\":\"3aa93480-e812-427c-b763-b6abf16fc448\",\"type\":\"Div\"},{\"id\":\"5c89c903-0e76-4638-8f96-e5a8059aea8e\",\"type\":\"TextInput\"},{\"id\":\"0531dfbb-c334-4b0d-9abe-c012d46781b1\",\"type\":\"TextInput\"},{\"id\":\"cdada4e8-c4f3-4b60-9008-d25c2e12d438\",\"type\":\"RangeSlider\"},{\"id\":\"ce8d99a9-ecce-4b54-bbe9-6d4cfa39fd47\",\"type\":\"Slider\"},{\"id\":\"f04eaeff-a75f-4eef-b7ae-000ee589aa18\",\"type\":\"Slider\"},{\"id\":\"b72ec41b-d9e1-4a10-ba13-c491e112e685\",\"type\":\"RangeSlider\"},{\"id\":\"4615fdcc-e18c-4b37-8d93-de3cd5fc3632\",\"type\":\"Slider\"},{\"id\":\"bca88661-89e6-4d86-9f49-d6065dd1661c\",\"type\":\"TextInput\"},{\"id\":\"d4c1b8ab-c6fe-4cc3-99aa-6f4ab6f48a03\",\"type\":\"TextInput\"},{\"id\":\"5948e0a2-f07b-42f4-ae55-50ce5b35b033\",\"type\":\"TextInput\"},{\"id\":\"e2f38ed0-0675-4349-ad11-94fa647ef15b\",\"type\":\"Div\"}],\"width\":300},\"id\":\"73395140-ee7c-4ca7-b3c7-a8874f1ca1b4\",\"type\":\"WidgetBox\"},{\"attributes\":{\"code\":\"data = {p_name: 'unbounded_int', value: cb_obj['value']};\\n    function unique_events(events) {\\n        // Processes the event queue ignoring duplicate events\\n        // of the same type\\n        var unique = [];\\n        var unique_events = [];\\n        for (var i=0; i<events.length; i++) {\\n            [event, data] = events[i];\\n            if (!unique_events.includes(event)) {\\n                unique.unshift(data);\\n                unique_events.push(event);\\n            }\\n        }\\n        return unique;\\n    }\\n\\n    function process_events(comm_state) {\\n        // Iterates over event queue and sends events via Comm\\n        var events = unique_events(comm_state.event_buffer);\\n        for (var i=0; i<events.length; i++) {\\n            var data = events[i];\\n            var comm = Bokeh.comms[data[\\\"comm_id\\\"]];\\n            comm.send(data);\\n        }\\n        comm_state.event_buffer = [];\\n    }\\n\\n    function on_msg(msg){\\n      // Receives acknowledgement from Python, processing event\\n      // and unblocking Comm if event queue empty\\n      msg = JSON.parse(msg.content.data);\\n      var comm_id = msg[\\\"comm_id\\\"]\\n      var comm_state = Bokeh.comm_state[comm_id];\\n      if (comm_state.event_buffer.length) {\\n        process_events(comm_state);\\n        comm_state.blocked = true;\\n        comm_state.time = Date.now()+20;\\n      } else {\\n        comm_state.blocked = false;\\n      }\\n      comm_state.event_buffer = [];\\n      if ((msg.msg_type == \\\"Ready\\\") && msg.content) {\\n        console.log(\\\"Python callback returned following output:\\\", msg.content);\\n      } else if (msg.msg_type == \\\"Error\\\") {\\n        console.log(\\\"Python failed with the following traceback:\\\", msg['traceback'])\\n      }\\n    }\\n\\n    // Initialize Comm\\n    if (Bokeh.comms == null) {\\n      Bokeh.comms = {};\\n      Bokeh.comm_state = {};\\n    }\\n\\n    if ((window.Jupyter !== undefined) && (Jupyter.notebook.kernel != null)) {\\n      var comm_manager = Jupyter.notebook.kernel.comm_manager;\\n      var comm = Bokeh.comms[\\\"c0384072db5341cf994bbadd4554bee4\\\"];\\n      if (comm == null) {\\n        comm = comm_manager.new_comm(\\\"c0384072db5341cf994bbadd4554bee4\\\", {}, {}, {});\\n        comm.on_msg(on_msg);\\n        comm_manager[\\\"c0384072db5341cf994bbadd4554bee4\\\"] = comm;\\n        Bokeh.comms[\\\"c0384072db5341cf994bbadd4554bee4\\\"] = comm;\\n      }\\n    } else {\\n      return\\n    }\\n\\n    // Initialize event queue and timeouts for Comm\\n    var comm_state = Bokeh.comm_state[\\\"c0384072db5341cf994bbadd4554bee4\\\"];\\n    if (comm_state === undefined) {\\n        comm_state = {event_buffer: [], blocked: false, time: Date.now()}\\n        Bokeh.comm_state[\\\"c0384072db5341cf994bbadd4554bee4\\\"] = comm_state\\n    }\\n\\n    // Add current event to queue and process queue if not blocked\\n    event_name = cb_obj.event_name\\n    data['comm_id'] = \\\"c0384072db5341cf994bbadd4554bee4\\\";\\n    timeout = comm_state.time + 20000;\\n    if ((window.Jupyter == null) | (Jupyter.notebook.kernel == null)) {\\n    } else if ((comm_state.blocked && (Date.now() < timeout))) {\\n        comm_state.event_buffer.unshift([event_name, data]);\\n    } else {\\n        comm_state.event_buffer.unshift([event_name, data]);\\n        setTimeout(function() { process_events(comm_state); }, 20);\\n        comm_state.blocked = true;\\n        comm_state.time = Date.now()+20;\\n    }\\n\"},\"id\":\"a7496c30-0ff3-45fc-a724-558879c68989\",\"type\":\"CustomJS\"},{\"attributes\":{\"callback\":null,\"js_property_callbacks\":{\"change:value\":[{\"id\":\"e157f188-b40b-40dc-b7c5-7b234e968438\",\"type\":\"CustomJS\"}]},\"title\":\"x\",\"value\":\"3.14\"},\"id\":\"5948e0a2-f07b-42f4-ae55-50ce5b35b033\",\"type\":\"TextInput\"}],\"root_ids\":[\"73395140-ee7c-4ca7-b3c7-a8874f1ca1b4\"]},\"title\":\"Bokeh Application\",\"version\":\"0.12.16\"}};\n",
       "  var render_items = [{\"docid\":\"b709f17c-2b0d-48e8-b4ca-5f82b1fcd3da\",\"elementid\":\"b27c4df6-46fd-4112-9071-642cbd647201\",\"modelid\":\"73395140-ee7c-4ca7-b3c7-a8874f1ca1b4\",\"notebook_comms_target\":\"df1a192d439148e79e92012b27565eb3\"}];\n",
       "  root.Bokeh.embed.embed_items_notebook(docs_json, render_items);\n",
       "\n",
       "  }\n",
       "  if (root.Bokeh !== undefined) {\n",
       "    embed_document(root);\n",
       "  } else {\n",
       "    var attempts = 0;\n",
       "    var timer = setInterval(function(root) {\n",
       "      if (root.Bokeh !== undefined) {\n",
       "        embed_document(root);\n",
       "        clearInterval(timer);\n",
       "      }\n",
       "      attempts++;\n",
       "      if (attempts > 100) {\n",
       "        console.log(\"Bokeh: ERROR: Unable to run BokehJS code because BokehJS library is missing\")\n",
       "        clearInterval(timer);\n",
       "      }\n",
       "    }, 10, root)\n",
       "  }\n",
       "})(window);</script>\n",
       "    "
      ]
     },
     "metadata": {},
     "output_type": "display_data"
    }
   ],
   "source": [
    "widgets = parambokeh.Widgets(BaseClass)"
   ]
  },
  {
   "cell_type": "code",
   "execution_count": null,
   "metadata": {
    "collapsed": true
   },
   "outputs": [],
   "source": [
    "parambokeh.Widgets(Example)"
   ]
  },
  {
   "cell_type": "markdown",
   "metadata": {},
   "source": [
    "As you can see, `parambokeh.Widgets()` does not need to be provided with any knowledge of your domain-specific application, not even the names of your parameters; it simply displays widgets for whatever Parameters may have been defined on that object.  Using Param with paramBokeh thus achieves a nearly complete separation between your domain-specific code and your display code, making it vastly easier to maintain both of them over time.  Here even the `msg` button behavior was specified declaratively, as an action that can be invoked (printing \"Hello\") independently of whether it is used in a GUI or other context.\n",
    "\n",
    "Interacting with the widgets above is only supported on a live Python-backed server, but you can also export static renderings of the widgets to a file or web page.  \n",
    "\n",
    "By default, editing values in this way requires you to run the notebook cell by cell -- when you get to the above cell, edit the values as you like, and then move on to execute subsequent cells, where any reference to those parameter values will use your interactively selected setting:"
   ]
  },
  {
   "cell_type": "code",
   "execution_count": null,
   "metadata": {
    "collapsed": true
   },
   "outputs": [],
   "source": [
    "Example.unbounded_int"
   ]
  },
  {
   "cell_type": "code",
   "execution_count": null,
   "metadata": {
    "collapsed": true
   },
   "outputs": [],
   "source": [
    "Example.num_int"
   ]
  },
  {
   "cell_type": "markdown",
   "metadata": {},
   "source": [
    "Example.timestamps records the times you pressed the \"record timestamp\" button."
   ]
  },
  {
   "cell_type": "code",
   "execution_count": null,
   "metadata": {
    "collapsed": true
   },
   "outputs": [],
   "source": [
    "Example.timestamps"
   ]
  },
  {
   "cell_type": "code",
   "execution_count": null,
   "metadata": {
    "collapsed": true
   },
   "outputs": [],
   "source": [
    "#Example.print_param_defaults() # see all parameter values"
   ]
  },
  {
   "cell_type": "markdown",
   "metadata": {},
   "source": [
    "As you can see, you can access the parameter values at the class level from within the notebook to control behavior explicitly, e.g. to select what to show in subsequent cells.  Moreover, any instances of the Parameterized classes in your own code will now use the new parameter values unless specifically overridden in that instance, so you can now import and use your domain-specific library however you like, knowing that it will use your interactive selections wherever those classes appear.  None of the domain-specific code needs to know or care that you used ParamNB; it will simply see new values for whatever attributes were changed interactively.  ParamNB thus allows you to provide notebook-specific, domain-specific interactive functionality without ever tying your domain-specific code to the notebook environment."
   ]
  },
  {
   "cell_type": "markdown",
   "metadata": {},
   "source": [
    "You can install ParamBokeh as described at [github.com/ioam/parambokeh](https://github.com/ioam/parambokeh).  Have fun widgeting!"
   ]
  }
 ],
 "metadata": {
  "kernelspec": {
   "display_name": "Python 3",
   "language": "python",
   "name": "python3"
  },
  "language_info": {
   "codemirror_mode": {
    "name": "ipython",
    "version": 3
   },
   "file_extension": ".py",
   "mimetype": "text/x-python",
   "name": "python",
   "nbconvert_exporter": "python",
   "pygments_lexer": "ipython3",
   "version": "3.6.1"
  }
 },
 "nbformat": 4,
 "nbformat_minor": 1
}
